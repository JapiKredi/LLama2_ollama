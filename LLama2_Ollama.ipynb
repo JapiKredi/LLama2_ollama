{
  "nbformat": 4,
  "nbformat_minor": 0,
  "metadata": {
    "colab": {
      "provenance": [],
      "authorship_tag": "ABX9TyPQUggI2N/0UAjRpouQII90",
      "include_colab_link": true
    },
    "kernelspec": {
      "name": "python3",
      "display_name": "Python 3"
    },
    "language_info": {
      "name": "python"
    }
  },
  "cells": [
    {
      "cell_type": "markdown",
      "metadata": {
        "id": "view-in-github",
        "colab_type": "text"
      },
      "source": [
        "<a href=\"https://colab.research.google.com/github/JapiKredi/LLama2_ollama/blob/main/LLama2_Ollama.ipynb\" target=\"_parent\"><img src=\"https://colab.research.google.com/assets/colab-badge.svg\" alt=\"Open In Colab\"/></a>"
      ]
    },
    {
      "cell_type": "code",
      "source": [
        "!pip install  ollama"
      ],
      "metadata": {
        "colab": {
          "base_uri": "https://localhost:8080/"
        },
        "id": "YBfXtUppOlSy",
        "outputId": "e68da36e-ec3d-42e0-f9ec-b1654c479c60"
      },
      "execution_count": 2,
      "outputs": [
        {
          "output_type": "stream",
          "name": "stdout",
          "text": [
            "Collecting ollama\n",
            "  Downloading ollama-0.1.6-py3-none-any.whl (9.2 kB)\n",
            "Collecting httpx<0.26.0,>=0.25.2 (from ollama)\n",
            "  Downloading httpx-0.25.2-py3-none-any.whl (74 kB)\n",
            "\u001b[2K     \u001b[90m━━━━━━━━━━━━━━━━━━━━━━━━━━━━━━━━━━━━━━━━\u001b[0m \u001b[32m75.0/75.0 kB\u001b[0m \u001b[31m1.5 MB/s\u001b[0m eta \u001b[36m0:00:00\u001b[0m\n",
            "\u001b[?25hRequirement already satisfied: anyio in /usr/local/lib/python3.10/dist-packages (from httpx<0.26.0,>=0.25.2->ollama) (3.7.1)\n",
            "Requirement already satisfied: certifi in /usr/local/lib/python3.10/dist-packages (from httpx<0.26.0,>=0.25.2->ollama) (2024.2.2)\n",
            "Collecting httpcore==1.* (from httpx<0.26.0,>=0.25.2->ollama)\n",
            "  Downloading httpcore-1.0.4-py3-none-any.whl (77 kB)\n",
            "\u001b[2K     \u001b[90m━━━━━━━━━━━━━━━━━━━━━━━━━━━━━━━━━━━━━━━━\u001b[0m \u001b[32m77.8/77.8 kB\u001b[0m \u001b[31m5.7 MB/s\u001b[0m eta \u001b[36m0:00:00\u001b[0m\n",
            "\u001b[?25hRequirement already satisfied: idna in /usr/local/lib/python3.10/dist-packages (from httpx<0.26.0,>=0.25.2->ollama) (3.6)\n",
            "Requirement already satisfied: sniffio in /usr/local/lib/python3.10/dist-packages (from httpx<0.26.0,>=0.25.2->ollama) (1.3.0)\n",
            "Collecting h11<0.15,>=0.13 (from httpcore==1.*->httpx<0.26.0,>=0.25.2->ollama)\n",
            "  Downloading h11-0.14.0-py3-none-any.whl (58 kB)\n",
            "\u001b[2K     \u001b[90m━━━━━━━━━━━━━━━━━━━━━━━━━━━━━━━━━━━━━━━━\u001b[0m \u001b[32m58.3/58.3 kB\u001b[0m \u001b[31m7.9 MB/s\u001b[0m eta \u001b[36m0:00:00\u001b[0m\n",
            "\u001b[?25hRequirement already satisfied: exceptiongroup in /usr/local/lib/python3.10/dist-packages (from anyio->httpx<0.26.0,>=0.25.2->ollama) (1.2.0)\n",
            "Installing collected packages: h11, httpcore, httpx, ollama\n",
            "Successfully installed h11-0.14.0 httpcore-1.0.4 httpx-0.25.2 ollama-0.1.6\n"
          ]
        }
      ]
    },
    {
      "cell_type": "code",
      "execution_count": 3,
      "metadata": {
        "id": "NWdaFlnFOZpG"
      },
      "outputs": [],
      "source": [
        "import ollama\n",
        "from ollama import generate"
      ]
    },
    {
      "cell_type": "code",
      "source": [
        "import glob\n",
        "import pandas as pd\n",
        "from PIL import Image\n",
        "\n",
        "import os\n",
        "from io import BytesIO"
      ],
      "metadata": {
        "id": "nWsryRHhOdCs"
      },
      "execution_count": 4,
      "outputs": []
    },
    {
      "cell_type": "code",
      "source": [
        "# Load the DataFrame from a CSV file, or create a new one if the file doesn't exist\n",
        "def load_or_create_dataframe(filename):\n",
        "    if os.path.isfile(filename):\n",
        "        df = pd.read_csv(filename)\n",
        "    else:\n",
        "        df = pd.DataFrame(columns=['image_file', 'description'])\n",
        "    return df"
      ],
      "metadata": {
        "id": "TXerkpk3OjzJ"
      },
      "execution_count": 5,
      "outputs": []
    },
    {
      "cell_type": "code",
      "source": [
        "df = load_or_create_dataframe('image_descriptions.csv')"
      ],
      "metadata": {
        "id": "9lvw3ue5OyIn"
      },
      "execution_count": 6,
      "outputs": []
    },
    {
      "cell_type": "code",
      "source": [
        "def get_png_files(folder_path):\n",
        "    return glob.glob(f\"{folder_path}/*.png\")\n",
        "\n",
        "# get the list of image files in the folder yopu want to process\n",
        "image_files = get_png_files(\"./images\")\n",
        "image_files.sort()\n",
        "\n",
        "print(image_files[:3])\n",
        "print(df.head())"
      ],
      "metadata": {
        "colab": {
          "base_uri": "https://localhost:8080/"
        },
        "id": "TEI824qUO1Gc",
        "outputId": "4d20f1b8-253e-469c-c3e2-89f3d0ecfb8a"
      },
      "execution_count": 7,
      "outputs": [
        {
          "output_type": "stream",
          "name": "stdout",
          "text": [
            "[]\n",
            "Empty DataFrame\n",
            "Columns: [image_file, description]\n",
            "Index: []\n"
          ]
        }
      ]
    },
    {
      "cell_type": "code",
      "source": [
        "# processing the images\n",
        "def process_image(image_file):\n",
        "    print(f\"\\nProcessing {image_file}\\n\")\n",
        "    with Image.open(image_file) as img:\n",
        "        with BytesIO() as buffer:\n",
        "            img.save(buffer, format='PNG')\n",
        "            image_bytes = buffer.getvalue()\n",
        "\n",
        "    full_response = ''\n",
        "    # Generate a description of the image\n",
        "    for response in generate(model='llava:13b-v1.6',\n",
        "                             prompt='describe this image and make sure to include anything notable about it (include text you see in the image):',\n",
        "                             images=[image_bytes],\n",
        "                             stream=True):\n",
        "        # Print the response to the console and add it to the full response\n",
        "        print(response['response'], end='', flush=True)\n",
        "        full_response += response['response']\n",
        "\n",
        "    # Add a new row to the DataFrame\n",
        "    df.loc[len(df)] = [image_file, full_response]\n"
      ],
      "metadata": {
        "id": "wXSzI_OaO32K"
      },
      "execution_count": 8,
      "outputs": []
    },
    {
      "cell_type": "code",
      "source": [
        "for image_file in image_files:\n",
        "    if image_file not in df['image_file'].values:\n",
        "        process_image(image_file)\n",
        "\n",
        "# Save the DataFrame to a CSV file\n",
        "df.to_csv('image_descriptions.csv', index=False)"
      ],
      "metadata": {
        "id": "IoGpazyaO7Ij"
      },
      "execution_count": 9,
      "outputs": []
    },
    {
      "cell_type": "code",
      "source": [],
      "metadata": {
        "id": "iN9CjSF2O8V0"
      },
      "execution_count": null,
      "outputs": []
    }
  ]
}